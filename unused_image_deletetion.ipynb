{
 "cells": [
  {
   "cell_type": "code",
   "execution_count": 1,
   "id": "a1afebdd-c98e-4bfc-b5dc-30d216958750",
   "metadata": {},
   "outputs": [],
   "source": [
    "import os"
   ]
  },
  {
   "cell_type": "code",
   "execution_count": 3,
   "id": "139d9345-00ac-4cf3-b34b-3ff1eeebe634",
   "metadata": {},
   "outputs": [
    {
     "name": "stdout",
     "output_type": "stream",
     "text": [
      "Deleted numberplate_0.jpg because numberplate_0.txt does not exist.\n",
      "Deleted numberplate_10.jpg because numberplate_10.txt does not exist.\n",
      "Deleted numberplate_100.jpg because numberplate_100.txt does not exist.\n",
      "Deleted numberplate_101.jpg because numberplate_101.txt does not exist.\n",
      "Deleted numberplate_102.jpg because numberplate_102.txt does not exist.\n",
      "Deleted numberplate_103.jpg because numberplate_103.txt does not exist.\n",
      "Deleted numberplate_104.jpg because numberplate_104.txt does not exist.\n",
      "Deleted numberplate_105.jpg because numberplate_105.txt does not exist.\n",
      "Deleted numberplate_11.jpg because numberplate_11.txt does not exist.\n",
      "Deleted numberplate_12.jpg because numberplate_12.txt does not exist.\n",
      "Deleted numberplate_13.jpg because numberplate_13.txt does not exist.\n",
      "Deleted numberplate_14.jpg because numberplate_14.txt does not exist.\n",
      "Deleted numberplate_15.jpg because numberplate_15.txt does not exist.\n",
      "Deleted numberplate_16.jpg because numberplate_16.txt does not exist.\n",
      "Deleted numberplate_17.jpg because numberplate_17.txt does not exist.\n",
      "Deleted numberplate_18.jpg because numberplate_18.txt does not exist.\n",
      "Deleted numberplate_19.jpg because numberplate_19.txt does not exist.\n",
      "Deleted numberplate_20.jpg because numberplate_20.txt does not exist.\n",
      "Deleted numberplate_21.jpg because numberplate_21.txt does not exist.\n",
      "Deleted numberplate_22.jpg because numberplate_22.txt does not exist.\n",
      "Deleted numberplate_34.jpg because numberplate_34.txt does not exist.\n",
      "Deleted numberplate_35.jpg because numberplate_35.txt does not exist.\n",
      "Deleted numberplate_36.jpg because numberplate_36.txt does not exist.\n",
      "Deleted numberplate_37.jpg because numberplate_37.txt does not exist.\n",
      "Deleted numberplate_49.jpg because numberplate_49.txt does not exist.\n",
      "Deleted numberplate_50.jpg because numberplate_50.txt does not exist.\n",
      "Deleted numberplate_51.jpg because numberplate_51.txt does not exist.\n",
      "Deleted numberplate_52.jpg because numberplate_52.txt does not exist.\n",
      "Deleted numberplate_53.jpg because numberplate_53.txt does not exist.\n",
      "Deleted numberplate_54.jpg because numberplate_54.txt does not exist.\n",
      "Deleted numberplate_55.jpg because numberplate_55.txt does not exist.\n",
      "Deleted numberplate_56.jpg because numberplate_56.txt does not exist.\n",
      "Deleted numberplate_57.jpg because numberplate_57.txt does not exist.\n",
      "Deleted numberplate_58.jpg because numberplate_58.txt does not exist.\n",
      "Deleted numberplate_77.jpg because numberplate_77.txt does not exist.\n",
      "Deleted numberplate_78.jpg because numberplate_78.txt does not exist.\n",
      "Deleted numberplate_79.jpg because numberplate_79.txt does not exist.\n",
      "Deleted numberplate_80.jpg because numberplate_80.txt does not exist.\n",
      "Deleted numberplate_81.jpg because numberplate_81.txt does not exist.\n",
      "Deleted numberplate_82.jpg because numberplate_82.txt does not exist.\n",
      "Deleted numberplate_83.jpg because numberplate_83.txt does not exist.\n",
      "Deleted numberplate_84.jpg because numberplate_84.txt does not exist.\n",
      "Deleted numberplate_85.jpg because numberplate_85.txt does not exist.\n",
      "Deleted numberplate_86.jpg because numberplate_86.txt does not exist.\n",
      "Deleted numberplate_87.jpg because numberplate_87.txt does not exist.\n",
      "Deleted numberplate_88.jpg because numberplate_88.txt does not exist.\n",
      "Deleted numberplate_89.jpg because numberplate_89.txt does not exist.\n",
      "Deleted numberplate_90.jpg because numberplate_90.txt does not exist.\n",
      "Deleted numberplate_91.jpg because numberplate_91.txt does not exist.\n",
      "Deleted numberplate_92.jpg because numberplate_92.txt does not exist.\n",
      "Deleted numberplate_93.jpg because numberplate_93.txt does not exist.\n",
      "Deleted numberplate_94.jpg because numberplate_94.txt does not exist.\n",
      "Deleted numberplate_95.jpg because numberplate_95.txt does not exist.\n",
      "Deleted numberplate_96.jpg because numberplate_96.txt does not exist.\n",
      "Deleted numberplate_97.jpg because numberplate_97.txt does not exist.\n",
      "Deleted numberplate_98.jpg because numberplate_98.txt does not exist.\n",
      "Deleted numberplate_99.jpg because numberplate_99.txt does not exist.\n"
     ]
    }
   ],
   "source": [
    "# this code delete any image that car plates doen't appear in it\n",
    "image_directory =\"images\"\n",
    "\n",
    "# Get a list of image files\n",
    "image_files = [f for f in os.listdir(image_directory) if os.path.isfile(os.path.join(image_directory, f)) and f.lower().endswith(('.png', '.jpg', '.jpeg', '.gif', '.bmp'))]\n",
    "\n",
    "# Iterate through each image file\n",
    "for image_file in image_files:\n",
    "    image_name = os.path.splitext(image_file)[0]  # Extract the image name without extension\n",
    "    txt_file = image_name + \".txt\"  # Assume the corresponding text file has the same name with .txt extension\n",
    "\n",
    "    # Check if the corresponding text file not exists\n",
    "    if not os.path.exists(os.path.join(image_directory, txt_file)):\n",
    "        # Delete the image file if the corresponding text file does not exist\n",
    "        os.remove(os.path.join(image_directory, image_file))\n",
    "        print(f\"Deleted {image_file} because {txt_file} does not exist.\")"
   ]
  },
  {
   "cell_type": "code",
   "execution_count": null,
   "id": "3ae91200-b458-4978-b142-382ad2128b06",
   "metadata": {},
   "outputs": [],
   "source": []
  }
 ],
 "metadata": {
  "kernelspec": {
   "display_name": "Python 3 (ipykernel)",
   "language": "python",
   "name": "python3"
  },
  "language_info": {
   "codemirror_mode": {
    "name": "ipython",
    "version": 3
   },
   "file_extension": ".py",
   "mimetype": "text/x-python",
   "name": "python",
   "nbconvert_exporter": "python",
   "pygments_lexer": "ipython3",
   "version": "3.12.5"
  }
 },
 "nbformat": 4,
 "nbformat_minor": 5
}
