{
 "cells": [
  {
   "cell_type": "code",
   "execution_count": 1,
   "id": "ebb169a4-61bc-4391-b08b-ee8192fa0921",
   "metadata": {},
   "outputs": [],
   "source": [
    "import cv2\n",
    "import os\n",
    "import time"
   ]
  },
  {
   "cell_type": "code",
   "execution_count": 2,
   "id": "e70b7e72-bfa9-4c01-83c7-6a574776dbab",
   "metadata": {},
   "outputs": [],
   "source": [
    "cpt = 0\n",
    "maxFrames = 120 # if you want 5 frames only.\n",
    "\n",
    "count=0"
   ]
  },
  {
   "cell_type": "code",
   "execution_count": 3,
   "id": "8c51dfbc-69b2-4e6e-a64a-3f14cdc2b6be",
   "metadata": {},
   "outputs": [],
   "source": [
    "cap=cv2.VideoCapture('mycarplate.mp4')"
   ]
  },
  {
   "cell_type": "code",
   "execution_count": 4,
   "id": "674279c7-294c-4eba-841f-0542e74783f9",
   "metadata": {},
   "outputs": [],
   "source": [
    "while cpt < maxFrames:\n",
    "    ret, frame = cap.read()\n",
    "    if not ret:\n",
    "        break\n",
    "    count += 1\n",
    "    if count % 3 != 0:\n",
    "        continue\n",
    "    frame=cv2.resize(frame,(1080,500))\n",
    "    cv2.imshow(\"test window\", frame) # show image in window\n",
    "    cv2.imwrite(r\"C:\\Users\\pc\\Downloads\\Car Plate\\images\\numberplate_%d.jpg\" %cpt, frame)\n",
    "    time.sleep(0.01)\n",
    "    cpt += 1\n",
    "    if cv2.waitKey(5)&0xFF==27:\n",
    "        break\n",
    "cap.release()   \n",
    "cv2.destroyAllWindows()"
   ]
  },
  {
   "cell_type": "code",
   "execution_count": null,
   "id": "b659aa0e-ff37-4460-b26c-06ab13f3f6d5",
   "metadata": {},
   "outputs": [],
   "source": []
  }
 ],
 "metadata": {
  "kernelspec": {
   "display_name": "Python 3 (ipykernel)",
   "language": "python",
   "name": "python3"
  },
  "language_info": {
   "codemirror_mode": {
    "name": "ipython",
    "version": 3
   },
   "file_extension": ".py",
   "mimetype": "text/x-python",
   "name": "python",
   "nbconvert_exporter": "python",
   "pygments_lexer": "ipython3",
   "version": "3.12.5"
  }
 },
 "nbformat": 4,
 "nbformat_minor": 5
}
